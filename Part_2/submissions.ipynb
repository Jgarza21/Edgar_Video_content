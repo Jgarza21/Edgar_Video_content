{
 "cells": [
  {
   "cell_type": "code",
   "execution_count": 2,
   "metadata": {},
   "outputs": [],
   "source": [
    "import pandas as pd\n",
    "import requests\n",
    "import edgar_functions as edgar\n",
    "headers = {\"User-Agent\": \"jacobg0121@gmail.com\"} "
   ]
  },
  {
   "cell_type": "code",
   "execution_count": 4,
   "metadata": {},
   "outputs": [
    {
     "data": {
      "text/plain": [
       "'0000320193'"
      ]
     },
     "execution_count": 4,
     "metadata": {},
     "output_type": "execute_result"
    }
   ],
   "source": [
    "ticker =\"aapl\"\n",
    "edgar.cik_matching_ticker(ticker)"
   ]
  },
  {
   "cell_type": "code",
   "execution_count": 5,
   "metadata": {},
   "outputs": [],
   "source": [
    "def get_submission_data_for_ticker(ticker, headers=headers, only_filings_df=False):\n",
    "    cik = edgar.cik_matching_ticker(ticker)\n",
    "    url = f\"https://data.sec.gov/submissions/CIK{cik}.json\"\n",
    "    company_json = requests.get(url, headers=headers).json()\n",
    "    if only_filings_df:\n",
    "        return pd.DataFrame(company_json['filings']['recent'])\n",
    "    return company_json"
   ]
  },
  {
   "cell_type": "code",
   "execution_count": 6,
   "metadata": {},
   "outputs": [],
   "source": [
    "data = get_submission_data_for_ticker(ticker, only_filings_df=False)"
   ]
  },
  {
   "cell_type": "code",
   "execution_count": 7,
   "metadata": {},
   "outputs": [
    {
     "data": {
      "text/plain": [
       "dict_keys(['cik', 'entityType', 'sic', 'sicDescription', 'insiderTransactionForOwnerExists', 'insiderTransactionForIssuerExists', 'name', 'tickers', 'exchanges', 'ein', 'description', 'website', 'investorWebsite', 'category', 'fiscalYearEnd', 'stateOfIncorporation', 'stateOfIncorporationDescription', 'addresses', 'phone', 'flags', 'formerNames', 'filings'])"
      ]
     },
     "execution_count": 7,
     "metadata": {},
     "output_type": "execute_result"
    }
   ],
   "source": [
    "data.keys()"
   ]
  },
  {
   "cell_type": "code",
   "execution_count": 8,
   "metadata": {},
   "outputs": [],
   "source": [
    "def get_filtered_filings(ticker, ten_k=True, just_accession_numbers=False, headers=headers):\n",
    "    company_filings_df = get_submission_data_for_ticker(ticker, only_filings_df=True, headers=headers)\n",
    "    if ten_k:\n",
    "        df = company_filings_df[company_filings_df['form'] == '10-K']\n",
    "    else:\n",
    "        df = company_filings_df[company_filings_df['form'] == '10-Q']\n",
    "    if just_accession_numbers:\n",
    "        df = df.set_index('reportDate')\n",
    "        accession_df = df['accessionNumber']\n",
    "        return accession_df\n",
    "    else:\n",
    "        return df"
   ]
  },
  {
   "cell_type": "code",
   "execution_count": 9,
   "metadata": {},
   "outputs": [],
   "source": [
    "filings = get_filtered_filings(ticker, ten_k=False, just_accession_numbers=True, headers=headers)\n"
   ]
  },
  {
   "cell_type": "code",
   "execution_count": 10,
   "metadata": {},
   "outputs": [
    {
     "data": {
      "text/plain": [
       "reportDate\n",
       "2023-12-30    0000320193-24-000006\n",
       "2023-07-01    0000320193-23-000077\n",
       "2023-04-01    0000320193-23-000064\n",
       "2022-12-31    0000320193-23-000006\n",
       "2022-06-25    0000320193-22-000070\n",
       "2022-03-26    0000320193-22-000059\n",
       "2021-12-25    0000320193-22-000007\n",
       "2021-06-26    0000320193-21-000065\n",
       "2021-03-27    0000320193-21-000056\n",
       "2020-12-26    0000320193-21-000010\n",
       "2020-06-27    0000320193-20-000062\n",
       "2020-03-28    0000320193-20-000052\n",
       "2019-12-28    0000320193-20-000010\n",
       "2019-06-29    0000320193-19-000076\n",
       "2019-03-30    0000320193-19-000066\n",
       "2018-12-29    0000320193-19-000010\n",
       "2018-06-30    0000320193-18-000100\n",
       "2018-03-31    0000320193-18-000070\n",
       "2017-12-30    0000320193-18-000007\n",
       "2017-07-01    0000320193-17-000009\n",
       "2017-04-01    0001628280-17-004790\n",
       "2016-12-31    0001628280-17-000717\n",
       "2016-06-25    0001628280-16-017809\n",
       "2016-03-26    0001193125-16-559625\n",
       "2015-12-26    0001193125-16-439878\n",
       "2015-06-27    0001193125-15-259935\n",
       "2015-03-28    0001193125-15-153166\n",
       "2014-12-27    0001193125-15-023697\n",
       "2014-06-28    0001193125-14-277160\n",
       "2014-03-29    0001193125-14-157311\n",
       "2013-12-28    0001193125-14-024487\n",
       "2013-06-29    0001193125-13-300670\n",
       "Name: accessionNumber, dtype: object"
      ]
     },
     "execution_count": 10,
     "metadata": {},
     "output_type": "execute_result"
    }
   ],
   "source": [
    "filings"
   ]
  },
  {
   "cell_type": "code",
   "execution_count": null,
   "metadata": {},
   "outputs": [],
   "source": []
  }
 ],
 "metadata": {
  "kernelspec": {
   "display_name": "Edgar",
   "language": "python",
   "name": "python3"
  },
  "language_info": {
   "codemirror_mode": {
    "name": "ipython",
    "version": 3
   },
   "file_extension": ".py",
   "mimetype": "text/x-python",
   "name": "python",
   "nbconvert_exporter": "python",
   "pygments_lexer": "ipython3",
   "version": "3.12.0"
  }
 },
 "nbformat": 4,
 "nbformat_minor": 2
}
